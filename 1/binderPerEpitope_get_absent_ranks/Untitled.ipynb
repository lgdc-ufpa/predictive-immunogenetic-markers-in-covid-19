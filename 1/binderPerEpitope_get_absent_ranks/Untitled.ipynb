{
 "cells": [
  {
   "cell_type": "code",
   "execution_count": 4,
   "metadata": {},
   "outputs": [],
   "source": [
    "import os\n",
    "import numpy as np\n",
    "import pandas as pd"
   ]
  },
  {
   "cell_type": "code",
   "execution_count": 5,
   "metadata": {},
   "outputs": [
    {
     "name": "stdout",
     "output_type": "stream",
     "text": [
      "/home/bruno/Documents/dev/mauro/binderPerEpitope_get_absent_ranks/files_bkp\n"
     ]
    },
    {
     "data": {
      "text/plain": [
       "['466_NetMHCpan.xlsx']"
      ]
     },
     "execution_count": 5,
     "metadata": {},
     "output_type": "execute_result"
    }
   ],
   "source": [
    "hla_directory = os.path.join(os.getcwd(), 'files_bkp')\n",
    "hla_files = sorted(os.listdir(hla_directory), reverse=False)\n",
    "\n",
    "print(hla_directory)\n",
    "hla_files"
   ]
  },
  {
   "cell_type": "code",
   "execution_count": 17,
   "metadata": {},
   "outputs": [
    {
     "name": "stdout",
     "output_type": "stream",
     "text": [
      "/home/bruno/Documents/dev/mauro/binderPerEpitope_get_absent_ranks/files_bkp/466_NetMHCpan.xlsx\n"
     ]
    },
    {
     "data": {
      "text/html": [
       "<div>\n",
       "<style scoped>\n",
       "    .dataframe tbody tr th:only-of-type {\n",
       "        vertical-align: middle;\n",
       "    }\n",
       "\n",
       "    .dataframe tbody tr th {\n",
       "        vertical-align: top;\n",
       "    }\n",
       "\n",
       "    .dataframe thead th {\n",
       "        text-align: right;\n",
       "    }\n",
       "</style>\n",
       "<table border=\"1\" class=\"dataframe\">\n",
       "  <thead>\n",
       "    <tr style=\"text-align: right;\">\n",
       "      <th></th>\n",
       "      <th>Unnamed: 0</th>\n",
       "      <th>Unnamed: 1</th>\n",
       "      <th>Unnamed: 2</th>\n",
       "      <th>HLA-C05:16</th>\n",
       "      <th>Unnamed: 4</th>\n",
       "      <th>Unnamed: 5</th>\n",
       "      <th>Unnamed: 6</th>\n",
       "      <th>Unnamed: 7</th>\n",
       "      <th>Unnamed: 8</th>\n",
       "      <th>Unnamed: 9</th>\n",
       "    </tr>\n",
       "  </thead>\n",
       "  <tbody>\n",
       "    <tr>\n",
       "      <th>0</th>\n",
       "      <td>Pos</td>\n",
       "      <td>Peptide</td>\n",
       "      <td>ID</td>\n",
       "      <td>core</td>\n",
       "      <td>icore</td>\n",
       "      <td>1-log50k</td>\n",
       "      <td>nM</td>\n",
       "      <td>Rank</td>\n",
       "      <td>Ave</td>\n",
       "      <td>NB</td>\n",
       "    </tr>\n",
       "    <tr>\n",
       "      <th>1</th>\n",
       "      <td>0</td>\n",
       "      <td>MDLFMRFFT</td>\n",
       "      <td>sp_P59632_AP3A_</td>\n",
       "      <td>MDLFMRFFT</td>\n",
       "      <td>MDLFMRFFT</td>\n",
       "      <td>0.0235</td>\n",
       "      <td>38759.6</td>\n",
       "      <td>42.9617</td>\n",
       "      <td>0.0235</td>\n",
       "      <td>0</td>\n",
       "    </tr>\n",
       "    <tr>\n",
       "      <th>2</th>\n",
       "      <td>1</td>\n",
       "      <td>DLFMRFFTL</td>\n",
       "      <td>sp_P59632_AP3A_</td>\n",
       "      <td>DLFMRFFTL</td>\n",
       "      <td>DLFMRFFTL</td>\n",
       "      <td>0.0818</td>\n",
       "      <td>20638.3</td>\n",
       "      <td>10.7013</td>\n",
       "      <td>0.0818</td>\n",
       "      <td>0</td>\n",
       "    </tr>\n",
       "    <tr>\n",
       "      <th>3</th>\n",
       "      <td>2</td>\n",
       "      <td>LFMRFFTLG</td>\n",
       "      <td>sp_P59632_AP3A_</td>\n",
       "      <td>LFMRFFTLG</td>\n",
       "      <td>LFMRFFTLG</td>\n",
       "      <td>0.0176</td>\n",
       "      <td>41308.4</td>\n",
       "      <td>53.3361</td>\n",
       "      <td>0.0176</td>\n",
       "      <td>0</td>\n",
       "    </tr>\n",
       "    <tr>\n",
       "      <th>4</th>\n",
       "      <td>3</td>\n",
       "      <td>FMRFFTLGS</td>\n",
       "      <td>sp_P59632_AP3A_</td>\n",
       "      <td>FMRFFTLGS</td>\n",
       "      <td>FMRFFTLGS</td>\n",
       "      <td>0.0429</td>\n",
       "      <td>31433.2</td>\n",
       "      <td>24.7343</td>\n",
       "      <td>0.0429</td>\n",
       "      <td>0</td>\n",
       "    </tr>\n",
       "  </tbody>\n",
       "</table>\n",
       "</div>"
      ],
      "text/plain": [
       "  Unnamed: 0 Unnamed: 1       Unnamed: 2 HLA-C05:16 Unnamed: 4 Unnamed: 5  \\\n",
       "0        Pos    Peptide               ID       core      icore   1-log50k   \n",
       "1          0  MDLFMRFFT  sp_P59632_AP3A_  MDLFMRFFT  MDLFMRFFT     0.0235   \n",
       "2          1  DLFMRFFTL  sp_P59632_AP3A_  DLFMRFFTL  DLFMRFFTL     0.0818   \n",
       "3          2  LFMRFFTLG  sp_P59632_AP3A_  LFMRFFTLG  LFMRFFTLG     0.0176   \n",
       "4          3  FMRFFTLGS  sp_P59632_AP3A_  FMRFFTLGS  FMRFFTLGS     0.0429   \n",
       "\n",
       "  Unnamed: 6 Unnamed: 7 Unnamed: 8 Unnamed: 9  \n",
       "0         nM       Rank        Ave         NB  \n",
       "1    38759.6    42.9617     0.0235          0  \n",
       "2    20638.3    10.7013     0.0818          0  \n",
       "3    41308.4    53.3361     0.0176          0  \n",
       "4    31433.2    24.7343     0.0429          0  "
      ]
     },
     "execution_count": 17,
     "metadata": {},
     "output_type": "execute_result"
    }
   ],
   "source": [
    "path = os.path.join(hla_directory, hla_files[0])\n",
    "print(path)\n",
    "df = pd.read_excel(path)\n",
    "df.head()"
   ]
  },
  {
   "cell_type": "code",
   "execution_count": null,
   "metadata": {},
   "outputs": [],
   "source": []
  },
  {
   "cell_type": "code",
   "execution_count": null,
   "metadata": {},
   "outputs": [],
   "source": []
  }
 ],
 "metadata": {
  "kernelspec": {
   "display_name": "Python 3",
   "language": "python",
   "name": "python3"
  },
  "language_info": {
   "codemirror_mode": {
    "name": "ipython",
    "version": 3
   },
   "file_extension": ".py",
   "mimetype": "text/x-python",
   "name": "python",
   "nbconvert_exporter": "python",
   "pygments_lexer": "ipython3",
   "version": "3.7.4"
  }
 },
 "nbformat": 4,
 "nbformat_minor": 4
}
